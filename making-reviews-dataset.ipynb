{
 "cells": [
  {
   "cell_type": "code",
   "execution_count": 92,
   "id": "8d49d5b4",
   "metadata": {
    "execution": {
     "iopub.execute_input": "2022-11-20T16:26:34.650933Z",
     "iopub.status.busy": "2022-11-20T16:26:34.650496Z",
     "iopub.status.idle": "2022-11-20T16:26:40.848742Z",
     "shell.execute_reply": "2022-11-20T16:26:40.847431Z",
     "shell.execute_reply.started": "2022-11-20T16:26:34.650897Z"
    }
   },
   "outputs": [],
   "source": [
    "import pandas as pd\n",
    "import numpy as np\n",
    "from google_play_scraper import app, Sort, reviews_all\n",
    "import emoji\n",
    "from collections import Counter, OrderedDict\n",
    "import regex\n",
    "import string\n",
    "from sklearn.model_selection import train_test_split\n",
    "import nltk\n",
    "import json\n",
    "from keras.preprocessing.sequence import pad_sequences"
   ]
  },
  {
   "cell_type": "code",
   "execution_count": 40,
   "id": "01e70e3d",
   "metadata": {
    "execution": {
     "iopub.execute_input": "2022-11-20T15:43:10.115635Z",
     "iopub.status.busy": "2022-11-20T15:43:10.115207Z",
     "iopub.status.idle": "2022-11-20T15:43:10.155331Z",
     "shell.execute_reply": "2022-11-20T15:43:10.154371Z",
     "shell.execute_reply.started": "2022-11-20T15:43:10.115602Z"
    }
   },
   "outputs": [],
   "source": [
    "def extract_emojis(s):\n",
    "    return ''.join(c for c in s if c in emoji.EMOJI_DATA)\n",
    "\n",
    "\n",
    "def split_count(text):\n",
    "    data = regex.findall(r'\\X',text)\n",
    "    return Counter(data)\n",
    "\n",
    "def remove_punc(st):\n",
    "    st = st.lower()\n",
    "    p =\"\".join([i for i in st if i not in string.punctuation])\n",
    "    return p\n",
    "\n",
    "def remove_nonEng(st):\n",
    "    return \" \".join(w for w in nltk.wordpunct_tokenize(st) \\\n",
    "         if w.lower() in set(nltk.corpus.words.words()) or not w.isalpha())\n",
    "\n",
    "def replace_emojis(st):\n",
    "    dEmo = {\n",
    "    \"great \": ['❤','😍','👌','🔥','🥰','😎', '🤩','😘','💯','😊',\n",
    "              '♥','👏','⭐','💛','🙏','💪','💙','💖','💕', '❣',\n",
    "              '💓','🌟', '🎯','🖤','✌','💞','✨','😇', '💝','🤘',\n",
    "              '💗','💚','🤟','🤍','🙌🏽','👏🏽','🐐','👑','🥇','💜','💟'],\n",
    "    \n",
    "    \"good \": ['👍','🎮','⚽','🆗','👍🏻','👌🏽','👌🏿','👌🏾','💪','💪🏽','👍🏽'],\n",
    "    \n",
    "    \"bad \": ['👎','😠','🙂','💔','😐','😔','😕','🙂','😤','😑','🤦','🤦🏻','🙅'],\n",
    "    \n",
    "    \"horrible \": ['🤮','🖕','🤬','😡','😡','💩','👎🏼','👎🏾','🖕🏻','🖕🏼','❌']     \n",
    "    }\n",
    "\n",
    "    \n",
    "    st = regex.findall(r'\\X',st)\n",
    "    for i in range(len(st)):\n",
    "        if st[i] in emoji.EMOJI_DATA:\n",
    "            flag=True\n",
    "            for j in dEmo:            \n",
    "                if st[i] in dEmo[j]:\n",
    "                    st[i] = j\n",
    "                    flag=False\n",
    "                    \n",
    "            if flag : st[i] =\"UNK \"                                           \n",
    "    return \"\".join([i for i in st]).split()\n",
    "\n",
    "def remove_UNK(sentence):\n",
    "    return [i for i in sentence if i != \"UNK\"]\n",
    "    \n",
    "\n",
    "def remove_UNK_from_set(st):\n",
    "    for i in range(len(st)):\n",
    "        st[i] = remove_UNK(st[i])\n",
    "    return st\n",
    "def remove_empty(st):\n",
    "    return [x for x in st if x]\n",
    "def join_set(st,y):\n",
    "    new_set = []\n",
    "    for i,j in zip(st,y):\n",
    "        if j == 1 : new_set.append([\" \".join(i),\"good\"])\n",
    "        else : new_set.append([\" \".join(i),\"bad\"])\n",
    "    return new_set"
   ]
  },
  {
   "cell_type": "code",
   "execution_count": 8,
   "id": "a4ab5c08",
   "metadata": {},
   "outputs": [],
   "source": [
    "Score_hero_reviews = reviews_all(\n",
    "    'com.firsttouchgames.hero2',\n",
    "    sleep_milliseconds=0, \n",
    "    lang='en', \n",
    "    country='us',\n",
    "    sort=Sort.NEWEST, \n",
    ")\n",
    "\n"
   ]
  },
  {
   "cell_type": "code",
   "execution_count": 9,
   "id": "3b8307c8",
   "metadata": {},
   "outputs": [
    {
     "data": {
      "text/html": [
       "<div>\n",
       "<style scoped>\n",
       "    .dataframe tbody tr th:only-of-type {\n",
       "        vertical-align: middle;\n",
       "    }\n",
       "\n",
       "    .dataframe tbody tr th {\n",
       "        vertical-align: top;\n",
       "    }\n",
       "\n",
       "    .dataframe thead th {\n",
       "        text-align: right;\n",
       "    }\n",
       "</style>\n",
       "<table border=\"1\" class=\"dataframe\">\n",
       "  <thead>\n",
       "    <tr style=\"text-align: right;\">\n",
       "      <th></th>\n",
       "      <th>reviewId</th>\n",
       "      <th>userName</th>\n",
       "      <th>userImage</th>\n",
       "      <th>content</th>\n",
       "      <th>score</th>\n",
       "      <th>thumbsUpCount</th>\n",
       "      <th>reviewCreatedVersion</th>\n",
       "      <th>at</th>\n",
       "      <th>replyContent</th>\n",
       "      <th>repliedAt</th>\n",
       "    </tr>\n",
       "  </thead>\n",
       "  <tbody>\n",
       "    <tr>\n",
       "      <th>0</th>\n",
       "      <td>dd7b38cb-1d13-489e-9ed9-fbfd027080a5</td>\n",
       "      <td>Elizabeth Afumah</td>\n",
       "      <td>https://play-lh.googleusercontent.com/a/ALm5wu...</td>\n",
       "      <td>The game is great 😂😂</td>\n",
       "      <td>5</td>\n",
       "      <td>0</td>\n",
       "      <td>None</td>\n",
       "      <td>2022-11-17 08:18:53</td>\n",
       "      <td>None</td>\n",
       "      <td>NaT</td>\n",
       "    </tr>\n",
       "    <tr>\n",
       "      <th>1</th>\n",
       "      <td>c4597cbc-91c6-4fbc-8aae-6965bdeecd3d</td>\n",
       "      <td>samaira rana</td>\n",
       "      <td>https://play-lh.googleusercontent.com/a/ALm5wu...</td>\n",
       "      <td>nice</td>\n",
       "      <td>5</td>\n",
       "      <td>0</td>\n",
       "      <td>2.60</td>\n",
       "      <td>2022-11-17 07:34:13</td>\n",
       "      <td>None</td>\n",
       "      <td>NaT</td>\n",
       "    </tr>\n",
       "    <tr>\n",
       "      <th>2</th>\n",
       "      <td>269299f8-25e6-49cf-b9f0-dd4f78db6f48</td>\n",
       "      <td>Mavhungu Lutendo</td>\n",
       "      <td>https://play-lh.googleusercontent.com/a-/ACNPE...</td>\n",
       "      <td>good game</td>\n",
       "      <td>4</td>\n",
       "      <td>0</td>\n",
       "      <td>2.60</td>\n",
       "      <td>2022-11-17 06:10:37</td>\n",
       "      <td>None</td>\n",
       "      <td>NaT</td>\n",
       "    </tr>\n",
       "    <tr>\n",
       "      <th>3</th>\n",
       "      <td>ba9129d4-f028-4f9d-8687-434eea2cd903</td>\n",
       "      <td>Wai Yai</td>\n",
       "      <td>https://play-lh.googleusercontent.com/a/ALm5wu...</td>\n",
       "      <td>very good</td>\n",
       "      <td>5</td>\n",
       "      <td>0</td>\n",
       "      <td>2.60</td>\n",
       "      <td>2022-11-17 06:10:14</td>\n",
       "      <td>None</td>\n",
       "      <td>NaT</td>\n",
       "    </tr>\n",
       "    <tr>\n",
       "      <th>4</th>\n",
       "      <td>5246ea2c-82c4-408c-aa4c-b5a9ee4921c4</td>\n",
       "      <td>Sumit Tanti</td>\n",
       "      <td>https://play-lh.googleusercontent.com/a/ALm5wu...</td>\n",
       "      <td>sumi t tanti</td>\n",
       "      <td>5</td>\n",
       "      <td>0</td>\n",
       "      <td>2.60</td>\n",
       "      <td>2022-11-17 05:52:49</td>\n",
       "      <td>None</td>\n",
       "      <td>NaT</td>\n",
       "    </tr>\n",
       "  </tbody>\n",
       "</table>\n",
       "</div>"
      ],
      "text/plain": [
       "                               reviewId          userName  \\\n",
       "0  dd7b38cb-1d13-489e-9ed9-fbfd027080a5  Elizabeth Afumah   \n",
       "1  c4597cbc-91c6-4fbc-8aae-6965bdeecd3d      samaira rana   \n",
       "2  269299f8-25e6-49cf-b9f0-dd4f78db6f48  Mavhungu Lutendo   \n",
       "3  ba9129d4-f028-4f9d-8687-434eea2cd903           Wai Yai   \n",
       "4  5246ea2c-82c4-408c-aa4c-b5a9ee4921c4       Sumit Tanti   \n",
       "\n",
       "                                           userImage               content  \\\n",
       "0  https://play-lh.googleusercontent.com/a/ALm5wu...  The game is great 😂😂   \n",
       "1  https://play-lh.googleusercontent.com/a/ALm5wu...                  nice   \n",
       "2  https://play-lh.googleusercontent.com/a-/ACNPE...             good game   \n",
       "3  https://play-lh.googleusercontent.com/a/ALm5wu...             very good   \n",
       "4  https://play-lh.googleusercontent.com/a/ALm5wu...          sumi t tanti   \n",
       "\n",
       "   score  thumbsUpCount reviewCreatedVersion                  at replyContent  \\\n",
       "0      5              0                 None 2022-11-17 08:18:53         None   \n",
       "1      5              0                 2.60 2022-11-17 07:34:13         None   \n",
       "2      4              0                 2.60 2022-11-17 06:10:37         None   \n",
       "3      5              0                 2.60 2022-11-17 06:10:14         None   \n",
       "4      5              0                 2.60 2022-11-17 05:52:49         None   \n",
       "\n",
       "  repliedAt  \n",
       "0       NaT  \n",
       "1       NaT  \n",
       "2       NaT  \n",
       "3       NaT  \n",
       "4       NaT  "
      ]
     },
     "execution_count": 9,
     "metadata": {},
     "output_type": "execute_result"
    }
   ],
   "source": [
    "herodf = pd.DataFrame(np.array(Score_hero_reviews),columns=['review'])\n",
    "\n",
    "\n",
    "herodf = herodf.join(pd.DataFrame(herodf.pop('review').tolist()))\n",
    "\n",
    "\n",
    "\n",
    "herodf.head()\n"
   ]
  },
  {
   "cell_type": "code",
   "execution_count": 78,
   "id": "88971dea",
   "metadata": {},
   "outputs": [
    {
     "name": "stdout",
     "output_type": "stream",
     "text": [
      "29548 9753 3629\n"
     ]
    }
   ],
   "source": [
    "g,c,b =0,0,0\n",
    "for i in herodf['score']:\n",
    "    if i>3:\n",
    "        g+=1\n",
    "    elif i <3 :\n",
    "        c+=1\n",
    "    else : b+=1\n",
    "    \n",
    "print(g,c,b)     "
   ]
  },
  {
   "cell_type": "code",
   "execution_count": 6,
   "id": "097fc1b2",
   "metadata": {},
   "outputs": [],
   "source": [
    "PVPreviews = reviews_all(\n",
    "    'com.firsttouchgames.smp',\n",
    "    sleep_milliseconds=0, \n",
    "    lang='en', \n",
    "    country='us',\n",
    "    sort=Sort.NEWEST, \n",
    ")"
   ]
  },
  {
   "cell_type": "code",
   "execution_count": 7,
   "id": "a670fb6d",
   "metadata": {},
   "outputs": [
    {
     "data": {
      "text/html": [
       "<div>\n",
       "<style scoped>\n",
       "    .dataframe tbody tr th:only-of-type {\n",
       "        vertical-align: middle;\n",
       "    }\n",
       "\n",
       "    .dataframe tbody tr th {\n",
       "        vertical-align: top;\n",
       "    }\n",
       "\n",
       "    .dataframe thead th {\n",
       "        text-align: right;\n",
       "    }\n",
       "</style>\n",
       "<table border=\"1\" class=\"dataframe\">\n",
       "  <thead>\n",
       "    <tr style=\"text-align: right;\">\n",
       "      <th></th>\n",
       "      <th>reviewId</th>\n",
       "      <th>userName</th>\n",
       "      <th>userImage</th>\n",
       "      <th>content</th>\n",
       "      <th>score</th>\n",
       "      <th>thumbsUpCount</th>\n",
       "      <th>reviewCreatedVersion</th>\n",
       "      <th>at</th>\n",
       "      <th>replyContent</th>\n",
       "      <th>repliedAt</th>\n",
       "    </tr>\n",
       "  </thead>\n",
       "  <tbody>\n",
       "    <tr>\n",
       "      <th>0</th>\n",
       "      <td>c78cbb5f-1575-4f10-bd24-3fb92291cd04</td>\n",
       "      <td>Steven Dawit</td>\n",
       "      <td>https://play-lh.googleusercontent.com/a/ALm5wu...</td>\n",
       "      <td>nice</td>\n",
       "      <td>5</td>\n",
       "      <td>0</td>\n",
       "      <td>None</td>\n",
       "      <td>2022-11-17 12:18:18</td>\n",
       "      <td>None</td>\n",
       "      <td>NaT</td>\n",
       "    </tr>\n",
       "    <tr>\n",
       "      <th>1</th>\n",
       "      <td>17de2066-f6dc-4102-a2c8-3919b7efba8e</td>\n",
       "      <td>ALAMIN KHAN</td>\n",
       "      <td>https://play-lh.googleusercontent.com/a-/ACNPE...</td>\n",
       "      <td>not a bad</td>\n",
       "      <td>2</td>\n",
       "      <td>0</td>\n",
       "      <td>2.41</td>\n",
       "      <td>2022-11-17 11:42:09</td>\n",
       "      <td>None</td>\n",
       "      <td>NaT</td>\n",
       "    </tr>\n",
       "    <tr>\n",
       "      <th>2</th>\n",
       "      <td>bbdef483-f58f-40fd-b57c-d1c0cf2a85c8</td>\n",
       "      <td>Abs Nayeem</td>\n",
       "      <td>https://play-lh.googleusercontent.com/a/ALm5wu...</td>\n",
       "      <td>Pls, make an option to customize the players</td>\n",
       "      <td>5</td>\n",
       "      <td>0</td>\n",
       "      <td>None</td>\n",
       "      <td>2022-11-17 11:32:31</td>\n",
       "      <td>None</td>\n",
       "      <td>NaT</td>\n",
       "    </tr>\n",
       "    <tr>\n",
       "      <th>3</th>\n",
       "      <td>1e607e71-9851-4645-ad5b-005e5d22337d</td>\n",
       "      <td>Satyam Singh</td>\n",
       "      <td>https://play-lh.googleusercontent.com/a/ALm5wu...</td>\n",
       "      <td>The only thing that sucks is player's strength...</td>\n",
       "      <td>1</td>\n",
       "      <td>0</td>\n",
       "      <td>None</td>\n",
       "      <td>2022-11-17 11:12:11</td>\n",
       "      <td>None</td>\n",
       "      <td>NaT</td>\n",
       "    </tr>\n",
       "    <tr>\n",
       "      <th>4</th>\n",
       "      <td>0fcbf84c-9a9d-4aee-bc88-7ab177aaa6af</td>\n",
       "      <td>18 BT102 Goutham</td>\n",
       "      <td>https://play-lh.googleusercontent.com/a-/ACNPE...</td>\n",
       "      <td>very intelligent game</td>\n",
       "      <td>5</td>\n",
       "      <td>0</td>\n",
       "      <td>2.41</td>\n",
       "      <td>2022-11-17 10:09:50</td>\n",
       "      <td>None</td>\n",
       "      <td>NaT</td>\n",
       "    </tr>\n",
       "  </tbody>\n",
       "</table>\n",
       "</div>"
      ],
      "text/plain": [
       "                               reviewId          userName  \\\n",
       "0  c78cbb5f-1575-4f10-bd24-3fb92291cd04      Steven Dawit   \n",
       "1  17de2066-f6dc-4102-a2c8-3919b7efba8e       ALAMIN KHAN   \n",
       "2  bbdef483-f58f-40fd-b57c-d1c0cf2a85c8        Abs Nayeem   \n",
       "3  1e607e71-9851-4645-ad5b-005e5d22337d      Satyam Singh   \n",
       "4  0fcbf84c-9a9d-4aee-bc88-7ab177aaa6af  18 BT102 Goutham   \n",
       "\n",
       "                                           userImage  \\\n",
       "0  https://play-lh.googleusercontent.com/a/ALm5wu...   \n",
       "1  https://play-lh.googleusercontent.com/a-/ACNPE...   \n",
       "2  https://play-lh.googleusercontent.com/a/ALm5wu...   \n",
       "3  https://play-lh.googleusercontent.com/a/ALm5wu...   \n",
       "4  https://play-lh.googleusercontent.com/a-/ACNPE...   \n",
       "\n",
       "                                             content  score  thumbsUpCount  \\\n",
       "0                                               nice      5              0   \n",
       "1                                          not a bad      2              0   \n",
       "2       Pls, make an option to customize the players      5              0   \n",
       "3  The only thing that sucks is player's strength...      1              0   \n",
       "4                              very intelligent game      5              0   \n",
       "\n",
       "  reviewCreatedVersion                  at replyContent repliedAt  \n",
       "0                 None 2022-11-17 12:18:18         None       NaT  \n",
       "1                 2.41 2022-11-17 11:42:09         None       NaT  \n",
       "2                 None 2022-11-17 11:32:31         None       NaT  \n",
       "3                 None 2022-11-17 11:12:11         None       NaT  \n",
       "4                 2.41 2022-11-17 10:09:50         None       NaT  "
      ]
     },
     "execution_count": 7,
     "metadata": {},
     "output_type": "execute_result"
    }
   ],
   "source": [
    "PVPdf = pd.DataFrame(np.array(PVPreviews),columns=['review'])\n",
    "\n",
    "\n",
    "PVPdf = PVPdf.join(pd.DataFrame(PVPdf.pop('review').tolist()))\n",
    "\n",
    "\n",
    "\n",
    "PVPdf.head()"
   ]
  },
  {
   "cell_type": "code",
   "execution_count": 3,
   "id": "92b7f7a2",
   "metadata": {
    "execution": {
     "iopub.execute_input": "2022-11-20T15:24:23.327297Z",
     "iopub.status.busy": "2022-11-20T15:24:23.326779Z",
     "iopub.status.idle": "2022-11-20T15:24:24.901527Z",
     "shell.execute_reply": "2022-11-20T15:24:24.900138Z",
     "shell.execute_reply.started": "2022-11-20T15:24:23.327257Z"
    }
   },
   "outputs": [
    {
     "data": {
      "text/html": [
       "<div>\n",
       "<style scoped>\n",
       "    .dataframe tbody tr th:only-of-type {\n",
       "        vertical-align: middle;\n",
       "    }\n",
       "\n",
       "    .dataframe tbody tr th {\n",
       "        vertical-align: top;\n",
       "    }\n",
       "\n",
       "    .dataframe thead th {\n",
       "        text-align: right;\n",
       "    }\n",
       "</style>\n",
       "<table border=\"1\" class=\"dataframe\">\n",
       "  <thead>\n",
       "    <tr style=\"text-align: right;\">\n",
       "      <th></th>\n",
       "      <th>Unnamed: 0</th>\n",
       "      <th>reviewId</th>\n",
       "      <th>userName</th>\n",
       "      <th>userImage</th>\n",
       "      <th>content</th>\n",
       "      <th>score</th>\n",
       "      <th>thumbsUpCount</th>\n",
       "      <th>reviewCreatedVersion</th>\n",
       "      <th>at</th>\n",
       "      <th>replyContent</th>\n",
       "      <th>repliedAt</th>\n",
       "    </tr>\n",
       "  </thead>\n",
       "  <tbody>\n",
       "    <tr>\n",
       "      <th>0</th>\n",
       "      <td>0</td>\n",
       "      <td>dd7b38cb-1d13-489e-9ed9-fbfd027080a5</td>\n",
       "      <td>Elizabeth Afumah</td>\n",
       "      <td>https://play-lh.googleusercontent.com/a/ALm5wu...</td>\n",
       "      <td>The game is great 😂😂</td>\n",
       "      <td>5</td>\n",
       "      <td>0</td>\n",
       "      <td>NaN</td>\n",
       "      <td>2022-11-17 08:18:53</td>\n",
       "      <td>NaN</td>\n",
       "      <td>NaN</td>\n",
       "    </tr>\n",
       "    <tr>\n",
       "      <th>1</th>\n",
       "      <td>1</td>\n",
       "      <td>c4597cbc-91c6-4fbc-8aae-6965bdeecd3d</td>\n",
       "      <td>samaira rana</td>\n",
       "      <td>https://play-lh.googleusercontent.com/a/ALm5wu...</td>\n",
       "      <td>nice</td>\n",
       "      <td>5</td>\n",
       "      <td>0</td>\n",
       "      <td>2.6</td>\n",
       "      <td>2022-11-17 07:34:13</td>\n",
       "      <td>NaN</td>\n",
       "      <td>NaN</td>\n",
       "    </tr>\n",
       "    <tr>\n",
       "      <th>2</th>\n",
       "      <td>2</td>\n",
       "      <td>269299f8-25e6-49cf-b9f0-dd4f78db6f48</td>\n",
       "      <td>Mavhungu Lutendo</td>\n",
       "      <td>https://play-lh.googleusercontent.com/a-/ACNPE...</td>\n",
       "      <td>good game</td>\n",
       "      <td>4</td>\n",
       "      <td>0</td>\n",
       "      <td>2.6</td>\n",
       "      <td>2022-11-17 06:10:37</td>\n",
       "      <td>NaN</td>\n",
       "      <td>NaN</td>\n",
       "    </tr>\n",
       "    <tr>\n",
       "      <th>3</th>\n",
       "      <td>3</td>\n",
       "      <td>ba9129d4-f028-4f9d-8687-434eea2cd903</td>\n",
       "      <td>Wai Yai</td>\n",
       "      <td>https://play-lh.googleusercontent.com/a/ALm5wu...</td>\n",
       "      <td>very good</td>\n",
       "      <td>5</td>\n",
       "      <td>0</td>\n",
       "      <td>2.6</td>\n",
       "      <td>2022-11-17 06:10:14</td>\n",
       "      <td>NaN</td>\n",
       "      <td>NaN</td>\n",
       "    </tr>\n",
       "    <tr>\n",
       "      <th>4</th>\n",
       "      <td>4</td>\n",
       "      <td>5246ea2c-82c4-408c-aa4c-b5a9ee4921c4</td>\n",
       "      <td>Sumit Tanti</td>\n",
       "      <td>https://play-lh.googleusercontent.com/a/ALm5wu...</td>\n",
       "      <td>sumi t tanti</td>\n",
       "      <td>5</td>\n",
       "      <td>0</td>\n",
       "      <td>2.6</td>\n",
       "      <td>2022-11-17 05:52:49</td>\n",
       "      <td>NaN</td>\n",
       "      <td>NaN</td>\n",
       "    </tr>\n",
       "  </tbody>\n",
       "</table>\n",
       "</div>"
      ],
      "text/plain": [
       "   Unnamed: 0                              reviewId          userName  \\\n",
       "0           0  dd7b38cb-1d13-489e-9ed9-fbfd027080a5  Elizabeth Afumah   \n",
       "1           1  c4597cbc-91c6-4fbc-8aae-6965bdeecd3d      samaira rana   \n",
       "2           2  269299f8-25e6-49cf-b9f0-dd4f78db6f48  Mavhungu Lutendo   \n",
       "3           3  ba9129d4-f028-4f9d-8687-434eea2cd903           Wai Yai   \n",
       "4           4  5246ea2c-82c4-408c-aa4c-b5a9ee4921c4       Sumit Tanti   \n",
       "\n",
       "                                           userImage               content  \\\n",
       "0  https://play-lh.googleusercontent.com/a/ALm5wu...  The game is great 😂😂   \n",
       "1  https://play-lh.googleusercontent.com/a/ALm5wu...                  nice   \n",
       "2  https://play-lh.googleusercontent.com/a-/ACNPE...             good game   \n",
       "3  https://play-lh.googleusercontent.com/a/ALm5wu...             very good   \n",
       "4  https://play-lh.googleusercontent.com/a/ALm5wu...          sumi t tanti   \n",
       "\n",
       "   score  thumbsUpCount  reviewCreatedVersion                   at  \\\n",
       "0      5              0                   NaN  2022-11-17 08:18:53   \n",
       "1      5              0                   2.6  2022-11-17 07:34:13   \n",
       "2      4              0                   2.6  2022-11-17 06:10:37   \n",
       "3      5              0                   2.6  2022-11-17 06:10:14   \n",
       "4      5              0                   2.6  2022-11-17 05:52:49   \n",
       "\n",
       "  replyContent repliedAt  \n",
       "0          NaN       NaN  \n",
       "1          NaN       NaN  \n",
       "2          NaN       NaN  \n",
       "3          NaN       NaN  \n",
       "4          NaN       NaN  "
      ]
     },
     "execution_count": 3,
     "metadata": {},
     "output_type": "execute_result"
    }
   ],
   "source": [
    "herodf = pd.read_csv(\"../input/reviews-set/herodf.csv\")\n",
    "PVPdf = pd.read_csv(\"../input/reviews-set/PVP.csv\")\n",
    "\n",
    "df = herodf.append(PVPdf, ignore_index=True)\n",
    "df.head()"
   ]
  },
  {
   "cell_type": "code",
   "execution_count": 4,
   "id": "e1a45921",
   "metadata": {
    "execution": {
     "iopub.execute_input": "2022-11-20T15:24:30.994795Z",
     "iopub.status.busy": "2022-11-20T15:24:30.994329Z",
     "iopub.status.idle": "2022-11-20T15:24:31.006340Z",
     "shell.execute_reply": "2022-11-20T15:24:31.004881Z",
     "shell.execute_reply.started": "2022-11-20T15:24:30.994756Z"
    }
   },
   "outputs": [
    {
     "name": "stdout",
     "output_type": "stream",
     "text": [
      "152426\n"
     ]
    }
   ],
   "source": [
    "print(len(df['score']))"
   ]
  },
  {
   "cell_type": "code",
   "execution_count": 45,
   "id": "7d3fa6fc",
   "metadata": {
    "execution": {
     "iopub.execute_input": "2022-11-20T15:44:22.895041Z",
     "iopub.status.busy": "2022-11-20T15:44:22.894566Z",
     "iopub.status.idle": "2022-11-20T15:44:29.007821Z",
     "shell.execute_reply": "2022-11-20T15:44:29.006597Z",
     "shell.execute_reply.started": "2022-11-20T15:44:22.895004Z"
    }
   },
   "outputs": [],
   "source": [
    "sat = []\n",
    "dis = []\n",
    "\n",
    "for (comment,score) in zip(df['content'],df['score']):\n",
    "    if score>3 :\n",
    "        sat.append(replace_emojis(remove_punc(str(comment))))\n",
    "    else : \n",
    "        dis.append(replace_emojis(remove_punc(str(comment))))"
   ]
  },
  {
   "cell_type": "code",
   "execution_count": 46,
   "id": "f554da81",
   "metadata": {
    "execution": {
     "iopub.execute_input": "2022-11-20T15:44:32.507308Z",
     "iopub.status.busy": "2022-11-20T15:44:32.506906Z",
     "iopub.status.idle": "2022-11-20T15:44:32.529701Z",
     "shell.execute_reply": "2022-11-20T15:44:32.528343Z",
     "shell.execute_reply.started": "2022-11-20T15:44:32.507277Z"
    }
   },
   "outputs": [],
   "source": [
    "sat = sat[:42000]"
   ]
  },
  {
   "cell_type": "code",
   "execution_count": 47,
   "id": "b3287730",
   "metadata": {
    "execution": {
     "iopub.execute_input": "2022-11-20T15:44:35.274473Z",
     "iopub.status.busy": "2022-11-20T15:44:35.274033Z",
     "iopub.status.idle": "2022-11-20T15:44:35.281492Z",
     "shell.execute_reply": "2022-11-20T15:44:35.279753Z",
     "shell.execute_reply.started": "2022-11-20T15:44:35.274438Z"
    }
   },
   "outputs": [
    {
     "name": "stdout",
     "output_type": "stream",
     "text": [
      "['its', 'a', 'nice', 'game', 'but', 'needs', 'a', 'lot', 'of', 'improvements']\n"
     ]
    }
   ],
   "source": [
    "print(dis[1099])"
   ]
  },
  {
   "cell_type": "code",
   "execution_count": 48,
   "id": "ccb4687e",
   "metadata": {
    "execution": {
     "iopub.execute_input": "2022-11-20T15:44:40.834526Z",
     "iopub.status.busy": "2022-11-20T15:44:40.834110Z",
     "iopub.status.idle": "2022-11-20T15:44:40.841141Z",
     "shell.execute_reply": "2022-11-20T15:44:40.839651Z",
     "shell.execute_reply.started": "2022-11-20T15:44:40.834495Z"
    }
   },
   "outputs": [
    {
     "name": "stdout",
     "output_type": "stream",
     "text": [
      "['the', 'game', 'is', 'great', 'UNK', 'UNK']\n"
     ]
    }
   ],
   "source": [
    "print(sat[0])"
   ]
  },
  {
   "cell_type": "code",
   "execution_count": 49,
   "id": "750615a8",
   "metadata": {
    "execution": {
     "iopub.execute_input": "2022-11-20T15:44:47.754598Z",
     "iopub.status.busy": "2022-11-20T15:44:47.754203Z",
     "iopub.status.idle": "2022-11-20T15:44:49.346241Z",
     "shell.execute_reply": "2022-11-20T15:44:49.345340Z",
     "shell.execute_reply.started": "2022-11-20T15:44:47.754567Z"
    }
   },
   "outputs": [],
   "source": [
    "w = set(nltk.corpus.words.words())\n",
    "\n",
    "for i in range(len(sat)):\n",
    "    for j in range(len(sat[i])):\n",
    "        s = regex.findall(r'\\X',sat[i][j])\n",
    "        flag = False\n",
    "        for l in s :\n",
    "            if l not in w and l not in emoji.EMOJI_DATA:\n",
    "                flag = True\n",
    "        if flag : sat[i][j] = \"UNK\"\n",
    "    \n",
    "            "
   ]
  },
  {
   "cell_type": "code",
   "execution_count": 50,
   "id": "e14cda2d",
   "metadata": {
    "execution": {
     "iopub.execute_input": "2022-11-20T15:45:00.134380Z",
     "iopub.status.busy": "2022-11-20T15:45:00.133986Z",
     "iopub.status.idle": "2022-11-20T15:45:03.908765Z",
     "shell.execute_reply": "2022-11-20T15:45:03.907393Z",
     "shell.execute_reply.started": "2022-11-20T15:45:00.134349Z"
    }
   },
   "outputs": [],
   "source": [
    "for i in range(len(dis)):\n",
    "    for j in range(len(dis[i])):\n",
    "        s = regex.findall(r'\\X',dis[i][j])\n",
    "        flag = False\n",
    "        for l in s :\n",
    "            if l not in w and l not in emoji.EMOJI_DATA:\n",
    "                flag = True\n",
    "        if flag : dis[i][j] = \"UNK\""
   ]
  },
  {
   "cell_type": "code",
   "execution_count": 51,
   "id": "9cae7a46",
   "metadata": {
    "execution": {
     "iopub.execute_input": "2022-11-20T15:45:11.224062Z",
     "iopub.status.busy": "2022-11-20T15:45:11.223647Z",
     "iopub.status.idle": "2022-11-20T15:45:11.230938Z",
     "shell.execute_reply": "2022-11-20T15:45:11.229261Z",
     "shell.execute_reply.started": "2022-11-20T15:45:11.224029Z"
    }
   },
   "outputs": [
    {
     "name": "stdout",
     "output_type": "stream",
     "text": [
      "The game is great 😂😂\n",
      "['the', 'game', 'is', 'great', 'UNK', 'UNK']\n"
     ]
    }
   ],
   "source": [
    "print(df['content'][0])\n",
    "print(sat[0])"
   ]
  },
  {
   "cell_type": "code",
   "execution_count": 52,
   "id": "608cd3d4",
   "metadata": {
    "execution": {
     "iopub.execute_input": "2022-11-20T15:45:50.204516Z",
     "iopub.status.busy": "2022-11-20T15:45:50.204099Z",
     "iopub.status.idle": "2022-11-20T15:45:50.363809Z",
     "shell.execute_reply": "2022-11-20T15:45:50.362415Z",
     "shell.execute_reply.started": "2022-11-20T15:45:50.204485Z"
    }
   },
   "outputs": [
    {
     "name": "stdout",
     "output_type": "stream",
     "text": [
      "42000 41840\n",
      "39866 40784\n"
     ]
    }
   ],
   "source": [
    "print(len(sat),len(dis))\n",
    "sat = remove_empty(remove_UNK_from_set(sat))\n",
    "dis = remove_empty(remove_UNK_from_set(dis))\n",
    "print(len(sat),len(dis))"
   ]
  },
  {
   "cell_type": "code",
   "execution_count": 62,
   "id": "3852cf41",
   "metadata": {
    "execution": {
     "iopub.execute_input": "2022-11-20T15:48:28.623125Z",
     "iopub.status.busy": "2022-11-20T15:48:28.622703Z",
     "iopub.status.idle": "2022-11-20T15:48:28.814529Z",
     "shell.execute_reply": "2022-11-20T15:48:28.813420Z",
     "shell.execute_reply.started": "2022-11-20T15:48:28.623087Z"
    }
   },
   "outputs": [],
   "source": [
    "with open(\"satS.txt\",\"w\") as f:\n",
    "    f.write(json.dumps(sat))\n",
    "with open(\"disS.txt\",\"w\") as f1:\n",
    "    f1.write(json.dumps(dis))"
   ]
  },
  {
   "cell_type": "code",
   "execution_count": 71,
   "id": "9205c7c1",
   "metadata": {
    "execution": {
     "iopub.execute_input": "2022-11-20T16:05:43.111470Z",
     "iopub.status.busy": "2022-11-20T16:05:43.111027Z",
     "iopub.status.idle": "2022-11-20T16:05:43.117525Z",
     "shell.execute_reply": "2022-11-20T16:05:43.116081Z",
     "shell.execute_reply.started": "2022-11-20T16:05:43.111432Z"
    }
   },
   "outputs": [],
   "source": [
    "satY = np.ones(len(sat),int)\n",
    "disY = np.zeros(len(dis),int)"
   ]
  },
  {
   "cell_type": "code",
   "execution_count": 72,
   "id": "b9c80b16",
   "metadata": {
    "execution": {
     "iopub.execute_input": "2022-11-20T16:05:46.512285Z",
     "iopub.status.busy": "2022-11-20T16:05:46.510984Z",
     "iopub.status.idle": "2022-11-20T16:05:46.519894Z",
     "shell.execute_reply": "2022-11-20T16:05:46.518767Z",
     "shell.execute_reply.started": "2022-11-20T16:05:46.512243Z"
    }
   },
   "outputs": [],
   "source": [
    "X = sat + dis\n",
    "Y = np.concatenate((satY,disY))"
   ]
  },
  {
   "cell_type": "code",
   "execution_count": 55,
   "id": "cd5d3007",
   "metadata": {
    "execution": {
     "iopub.execute_input": "2022-11-20T15:46:09.062244Z",
     "iopub.status.busy": "2022-11-20T15:46:09.061802Z",
     "iopub.status.idle": "2022-11-20T15:46:09.615145Z",
     "shell.execute_reply": "2022-11-20T15:46:09.613784Z",
     "shell.execute_reply.started": "2022-11-20T15:46:09.062210Z"
    }
   },
   "outputs": [],
   "source": [
    "Finaldf = pd.DataFrame(join_set(X,Y), columns=['review', 'sentiment'])"
   ]
  },
  {
   "cell_type": "code",
   "execution_count": 56,
   "id": "2f8e9074",
   "metadata": {
    "execution": {
     "iopub.execute_input": "2022-11-20T15:46:12.573686Z",
     "iopub.status.busy": "2022-11-20T15:46:12.573108Z",
     "iopub.status.idle": "2022-11-20T15:46:12.581180Z",
     "shell.execute_reply": "2022-11-20T15:46:12.579428Z",
     "shell.execute_reply.started": "2022-11-20T15:46:12.573586Z"
    }
   },
   "outputs": [
    {
     "name": "stdout",
     "output_type": "stream",
     "text": [
      "80650\n"
     ]
    }
   ],
   "source": [
    "print(len(Finaldf[\"review\"]))"
   ]
  },
  {
   "cell_type": "code",
   "execution_count": 57,
   "id": "33d490b0",
   "metadata": {
    "execution": {
     "iopub.execute_input": "2022-11-20T15:46:20.284724Z",
     "iopub.status.busy": "2022-11-20T15:46:20.284317Z",
     "iopub.status.idle": "2022-11-20T15:46:20.296539Z",
     "shell.execute_reply": "2022-11-20T15:46:20.295332Z",
     "shell.execute_reply.started": "2022-11-20T15:46:20.284692Z"
    }
   },
   "outputs": [
    {
     "data": {
      "text/html": [
       "<div>\n",
       "<style scoped>\n",
       "    .dataframe tbody tr th:only-of-type {\n",
       "        vertical-align: middle;\n",
       "    }\n",
       "\n",
       "    .dataframe tbody tr th {\n",
       "        vertical-align: top;\n",
       "    }\n",
       "\n",
       "    .dataframe thead th {\n",
       "        text-align: right;\n",
       "    }\n",
       "</style>\n",
       "<table border=\"1\" class=\"dataframe\">\n",
       "  <thead>\n",
       "    <tr style=\"text-align: right;\">\n",
       "      <th></th>\n",
       "      <th>review</th>\n",
       "      <th>sentiment</th>\n",
       "    </tr>\n",
       "  </thead>\n",
       "  <tbody>\n",
       "    <tr>\n",
       "      <th>0</th>\n",
       "      <td>the game is great</td>\n",
       "      <td>good</td>\n",
       "    </tr>\n",
       "    <tr>\n",
       "      <th>1</th>\n",
       "      <td>nice</td>\n",
       "      <td>good</td>\n",
       "    </tr>\n",
       "    <tr>\n",
       "      <th>2</th>\n",
       "      <td>good game</td>\n",
       "      <td>good</td>\n",
       "    </tr>\n",
       "    <tr>\n",
       "      <th>3</th>\n",
       "      <td>very good</td>\n",
       "      <td>good</td>\n",
       "    </tr>\n",
       "    <tr>\n",
       "      <th>4</th>\n",
       "      <td>sumi t tanti</td>\n",
       "      <td>good</td>\n",
       "    </tr>\n",
       "  </tbody>\n",
       "</table>\n",
       "</div>"
      ],
      "text/plain": [
       "              review sentiment\n",
       "0  the game is great      good\n",
       "1               nice      good\n",
       "2          good game      good\n",
       "3          very good      good\n",
       "4       sumi t tanti      good"
      ]
     },
     "execution_count": 57,
     "metadata": {},
     "output_type": "execute_result"
    }
   ],
   "source": [
    "Finaldf.head()"
   ]
  },
  {
   "cell_type": "code",
   "execution_count": 63,
   "id": "49b92389",
   "metadata": {
    "execution": {
     "iopub.execute_input": "2022-11-20T15:48:36.123535Z",
     "iopub.status.busy": "2022-11-20T15:48:36.123070Z",
     "iopub.status.idle": "2022-11-20T15:48:36.353839Z",
     "shell.execute_reply": "2022-11-20T15:48:36.352368Z",
     "shell.execute_reply.started": "2022-11-20T15:48:36.123494Z"
    }
   },
   "outputs": [],
   "source": [
    "Finaldf.to_csv('MyReviewsSet.csv')"
   ]
  }
 ],
 "metadata": {
  "kernelspec": {
   "display_name": "Python 3",
   "language": "python",
   "name": "python3"
  },
  "language_info": {
   "codemirror_mode": {
    "name": "ipython",
    "version": 3
   },
   "file_extension": ".py",
   "mimetype": "text/x-python",
   "name": "python",
   "nbconvert_exporter": "python",
   "pygments_lexer": "ipython3",
   "version": "3.9.0"
  }
 },
 "nbformat": 4,
 "nbformat_minor": 5
}
